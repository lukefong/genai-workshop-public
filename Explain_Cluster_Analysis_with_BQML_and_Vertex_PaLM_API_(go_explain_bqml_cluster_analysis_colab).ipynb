{
  "nbformat": 4,
  "nbformat_minor": 0,
  "metadata": {
    "colab": {
      "provenance": [],
      "include_colab_link": true
    },
    "kernelspec": {
      "name": "python3",
      "display_name": "Python 3"
    },
    "language_info": {
      "name": "python"
    }
  },
  "cells": [
    {
      "cell_type": "markdown",
      "metadata": {
        "id": "view-in-github",
        "colab_type": "text"
      },
      "source": [
        "<a href=\"https://colab.research.google.com/github/lukefong/genai-workshop-public/blob/main/Explain_Cluster_Analysis_with_BQML_and_Vertex_PaLM_API_(go_explain_bqml_cluster_analysis_colab).ipynb\" target=\"_parent\"><img src=\"https://colab.research.google.com/assets/colab-badge.svg\" alt=\"Open In Colab\"/></a>"
      ]
    },
    {
      "cell_type": "code",
      "source": [
        "# Copyright 2023 Google LLC\n",
        "#\n",
        "# Licensed under the Apache License, Version 2.0 (the \"License\");\n",
        "# you may not use this file except in compliance with the License.\n",
        "# You may obtain a copy of the License at\n",
        "#\n",
        "#     https://www.apache.org/licenses/LICENSE-2.0\n",
        "#\n",
        "# Unless required by applicable law or agreed to in writing, software\n",
        "# distributed under the License is distributed on an \"AS IS\" BASIS,\n",
        "# WITHOUT WARRANTIES OR CONDITIONS OF ANY KIND, either express or implied.\n",
        "# See the License for the specific language governing permissions and\n",
        "# limitations under the License."
      ],
      "metadata": {
        "id": "rlporafx8Odu"
      },
      "execution_count": null,
      "outputs": []
    },
    {
      "cell_type": "markdown",
      "source": [
        "# Using the Vertex AI PaLM API to explain BQML Clustering\n",
        "\n",
        "This example demostrates how to use the Vertex AI PaLM API to explain BQML clustering. \n",
        "\n",
        "| | |\n",
        "|----------|-------------|\n",
        "| Author(s)   | Hussain Chinoy (ghchinoy@) |\n",
        "\n",
        "[Feedback](https://forms.gle/GX2sCKXDw2ZQ91ne7) is welcome!\n"
      ],
      "metadata": {
        "id": "Sxq-V_jV4gEk"
      }
    },
    {
      "cell_type": "markdown",
      "source": [
        "Let's log in with Google, load the Vertex AI libraries and restart the runtime"
      ],
      "metadata": {
        "id": "l-XqgTL3M5vf"
      }
    },
    {
      "cell_type": "code",
      "source": [
        "#!pip install git+https://github.com/googleapis/python-aiplatform.git \"shapely<2.0.0\" \"protobuf==3.19.6\"\n",
        "!pip install google-cloud-aiplatform --upgrade"
      ],
      "metadata": {
        "id": "PfTEYGczLj2n"
      },
      "execution_count": null,
      "outputs": []
    },
    {
      "cell_type": "markdown",
      "source": [
        "---\n",
        "\n",
        "#### ⚠️ Do not forget to click the \"RESTART RUNTIME\" button above.\n",
        "\n",
        "---"
      ],
      "metadata": {
        "id": "bGpPBpw0DT2h"
      }
    },
    {
      "cell_type": "markdown",
      "source": [
        "Let's define some variables that will be used throughout this notebook.\n",
        "\n",
        "These are the GCP Project ID `project_id`, the Model name `model_name` which is any name you prefer, and finally the Dataset name `dataset_name`.\n",
        "The dataset needs to exist in the same Project as `project_id` and you'll need appropriate access to create and delete."
      ],
      "metadata": {
        "id": "sHoUOuxf5GOR"
      }
    },
    {
      "cell_type": "code",
      "source": [
        "import pandas as pd\n",
        "from typing import Union\n",
        "import sys\n",
        "from google.cloud import bigquery"
      ],
      "metadata": {
        "id": "fU3_zsLsZ89c"
      },
      "execution_count": null,
      "outputs": []
    },
    {
      "cell_type": "code",
      "source": [
        "#@title Setup Project Variables { run: \"auto\", display-mode: \"form\" }\n",
        "project_id = \"skilled-circle-347201\" #@param {type:\"string\"}\n",
        "dataset_name = \"bqml_llm\" #@param {type:\"string\"}\n",
        "model_name = \"ecommerce_customer_segment\" #@param {type:\"string\"}\n",
        "eval_name = model_name + \"_eval\"\n",
        "LOCATION = \"us-central1\"  # @param {type:\"string\"}\n",
        "client = bigquery.Client(project=project_id)\n",
        "dataset_ref = client.dataset(dataset_name)\n",
        "dataset = client.create_dataset(dataset_ref)\n",
        "print(dataset)"
      ],
      "metadata": {
        "id": "_3Rfhx874F2J"
      },
      "execution_count": null,
      "outputs": []
    },
    {
      "cell_type": "markdown",
      "source": [
        "## Create a K-means model to cluster ecommerce data\n",
        "\n",
        "First let's look at our data quickly before we create the model. This query can be run in BigQuery on its own. Try it out!"
      ],
      "metadata": {
        "id": "WnXQQOAc4t22"
      }
    },
    {
      "cell_type": "code",
      "source": [
        "query = \"\"\"\n",
        "SELECT\n",
        "  user_id,\n",
        "  order_id,\n",
        "  sale_price,\n",
        "  created_at as order_created_date\n",
        "FROM `bigquery-public-data.thelook_ecommerce.order_items`\n",
        "WHERE created_at BETWEEN CAST('2020-01-01 00:00:00' AS TIMESTAMP)\n",
        "AND CAST('2023-01-01 00:00:00' AS TIMESTAMP)\n",
        "\"\"\"\n",
        "df = client.query(query).to_dataframe()\n",
        "df.head()\n"
      ],
      "metadata": {
        "colab": {
          "base_uri": "https://localhost:8080/",
          "height": 206
        },
        "id": "V6-JiJZBGmO7",
        "outputId": "1bf06d6e-3b70-4b87-aadc-9a21ad02074b"
      },
      "execution_count": null,
      "outputs": [
        {
          "output_type": "execute_result",
          "data": {
            "text/plain": [
              "   user_id  order_id  sale_price        order_created_date\n",
              "0    27396     34003         2.5 2022-08-29 20:52:51+00:00\n",
              "1    33356     41399         2.5 2021-09-11 09:25:35+00:00\n",
              "2     4135      5159         2.5 2021-10-15 09:50:16+00:00\n",
              "3    47833     59560         2.5 2022-05-31 03:51:50+00:00\n",
              "4    68859     85914         2.5 2022-12-04 04:40:47+00:00"
            ],
            "text/html": [
              "\n",
              "  <div id=\"df-7d58c9d7-eed3-443d-b69e-03526b1a026a\">\n",
              "    <div class=\"colab-df-container\">\n",
              "      <div>\n",
              "<style scoped>\n",
              "    .dataframe tbody tr th:only-of-type {\n",
              "        vertical-align: middle;\n",
              "    }\n",
              "\n",
              "    .dataframe tbody tr th {\n",
              "        vertical-align: top;\n",
              "    }\n",
              "\n",
              "    .dataframe thead th {\n",
              "        text-align: right;\n",
              "    }\n",
              "</style>\n",
              "<table border=\"1\" class=\"dataframe\">\n",
              "  <thead>\n",
              "    <tr style=\"text-align: right;\">\n",
              "      <th></th>\n",
              "      <th>user_id</th>\n",
              "      <th>order_id</th>\n",
              "      <th>sale_price</th>\n",
              "      <th>order_created_date</th>\n",
              "    </tr>\n",
              "  </thead>\n",
              "  <tbody>\n",
              "    <tr>\n",
              "      <th>0</th>\n",
              "      <td>27396</td>\n",
              "      <td>34003</td>\n",
              "      <td>2.5</td>\n",
              "      <td>2022-08-29 20:52:51+00:00</td>\n",
              "    </tr>\n",
              "    <tr>\n",
              "      <th>1</th>\n",
              "      <td>33356</td>\n",
              "      <td>41399</td>\n",
              "      <td>2.5</td>\n",
              "      <td>2021-09-11 09:25:35+00:00</td>\n",
              "    </tr>\n",
              "    <tr>\n",
              "      <th>2</th>\n",
              "      <td>4135</td>\n",
              "      <td>5159</td>\n",
              "      <td>2.5</td>\n",
              "      <td>2021-10-15 09:50:16+00:00</td>\n",
              "    </tr>\n",
              "    <tr>\n",
              "      <th>3</th>\n",
              "      <td>47833</td>\n",
              "      <td>59560</td>\n",
              "      <td>2.5</td>\n",
              "      <td>2022-05-31 03:51:50+00:00</td>\n",
              "    </tr>\n",
              "    <tr>\n",
              "      <th>4</th>\n",
              "      <td>68859</td>\n",
              "      <td>85914</td>\n",
              "      <td>2.5</td>\n",
              "      <td>2022-12-04 04:40:47+00:00</td>\n",
              "    </tr>\n",
              "  </tbody>\n",
              "</table>\n",
              "</div>\n",
              "      <button class=\"colab-df-convert\" onclick=\"convertToInteractive('df-7d58c9d7-eed3-443d-b69e-03526b1a026a')\"\n",
              "              title=\"Convert this dataframe to an interactive table.\"\n",
              "              style=\"display:none;\">\n",
              "        \n",
              "  <svg xmlns=\"http://www.w3.org/2000/svg\" height=\"24px\"viewBox=\"0 0 24 24\"\n",
              "       width=\"24px\">\n",
              "    <path d=\"M0 0h24v24H0V0z\" fill=\"none\"/>\n",
              "    <path d=\"M18.56 5.44l.94 2.06.94-2.06 2.06-.94-2.06-.94-.94-2.06-.94 2.06-2.06.94zm-11 1L8.5 8.5l.94-2.06 2.06-.94-2.06-.94L8.5 2.5l-.94 2.06-2.06.94zm10 10l.94 2.06.94-2.06 2.06-.94-2.06-.94-.94-2.06-.94 2.06-2.06.94z\"/><path d=\"M17.41 7.96l-1.37-1.37c-.4-.4-.92-.59-1.43-.59-.52 0-1.04.2-1.43.59L10.3 9.45l-7.72 7.72c-.78.78-.78 2.05 0 2.83L4 21.41c.39.39.9.59 1.41.59.51 0 1.02-.2 1.41-.59l7.78-7.78 2.81-2.81c.8-.78.8-2.07 0-2.86zM5.41 20L4 18.59l7.72-7.72 1.47 1.35L5.41 20z\"/>\n",
              "  </svg>\n",
              "      </button>\n",
              "      \n",
              "  \n",
              "    <div id=\"df-ea7545ef-1d8b-4ded-b465-bdfda912ca51\">\n",
              "      <button class=\"colab-df-quickchart\" onclick=\"quickchart('df-ea7545ef-1d8b-4ded-b465-bdfda912ca51')\"\n",
              "              title=\"Generate charts.\"\n",
              "              style=\"display:none;\">\n",
              "        \n",
              "  <svg xmlns=\"http://www.w3.org/2000/svg\" height=\"24px\"viewBox=\"0 0 24 24\"\n",
              "       width=\"24px\">\n",
              "      <g>\n",
              "          <path d=\"M19 3H5c-1.1 0-2 .9-2 2v14c0 1.1.9 2 2 2h14c1.1 0 2-.9 2-2V5c0-1.1-.9-2-2-2zM9 17H7v-7h2v7zm4 0h-2V7h2v10zm4 0h-2v-4h2v4z\"/>\n",
              "      </g>\n",
              "  </svg>\n",
              "      </button>\n",
              "    </div>\n",
              "    \n",
              "  <style>\n",
              "    .colab-df-quickchart {\n",
              "      background-color: #E8F0FE;\n",
              "      border: none;\n",
              "      border-radius: 50%;\n",
              "      cursor: pointer;\n",
              "      display: none;\n",
              "      fill: #1967D2;\n",
              "      height: 32px;\n",
              "      padding: 0 0 0 0;\n",
              "      width: 32px;\n",
              "    }\n",
              "\n",
              "    .colab-df-quickchart:hover {\n",
              "      background-color: #E2EBFA;\n",
              "      box-shadow: 0px 1px 2px rgba(60, 64, 67, 0.3), 0px 1px 3px 1px rgba(60, 64, 67, 0.15);\n",
              "      fill: #174EA6;\n",
              "    }\n",
              "\n",
              "    [theme=dark] .colab-df-quickchart {\n",
              "      background-color: #3B4455;\n",
              "      fill: #D2E3FC;\n",
              "    }\n",
              "\n",
              "    [theme=dark] .colab-df-quickchart:hover {\n",
              "      background-color: #434B5C;\n",
              "      box-shadow: 0px 1px 3px 1px rgba(0, 0, 0, 0.15);\n",
              "      filter: drop-shadow(0px 1px 2px rgba(0, 0, 0, 0.3));\n",
              "      fill: #FFFFFF;\n",
              "    }\n",
              "\n",
              "    .colab-quickchart-section-title {\n",
              "        clear: both;\n",
              "    }\n",
              "  </style>\n",
              "\n",
              "    <script>\n",
              "      const quickchartButtonEl =\n",
              "        document.querySelector('#df-ea7545ef-1d8b-4ded-b465-bdfda912ca51 button.colab-df-quickchart');\n",
              "      quickchartButtonEl.style.display =\n",
              "        google.colab.kernel.accessAllowed ? 'block' : 'none';\n",
              "\n",
              "      async function quickchart(key) {\n",
              "        const containerElement = document.querySelector('#df-ea7545ef-1d8b-4ded-b465-bdfda912ca51');\n",
              "        const charts = await google.colab.kernel.invokeFunction(\n",
              "            'generateCharts', [key], {});\n",
              "      }\n",
              "    </script>\n",
              "  <style>\n",
              "    .colab-df-container {\n",
              "      display:flex;\n",
              "      flex-wrap:wrap;\n",
              "      gap: 12px;\n",
              "    }\n",
              "\n",
              "    .colab-df-convert {\n",
              "      background-color: #E8F0FE;\n",
              "      border: none;\n",
              "      border-radius: 50%;\n",
              "      cursor: pointer;\n",
              "      display: none;\n",
              "      fill: #1967D2;\n",
              "      height: 32px;\n",
              "      padding: 0 0 0 0;\n",
              "      width: 32px;\n",
              "    }\n",
              "\n",
              "    .colab-df-convert:hover {\n",
              "      background-color: #E2EBFA;\n",
              "      box-shadow: 0px 1px 2px rgba(60, 64, 67, 0.3), 0px 1px 3px 1px rgba(60, 64, 67, 0.15);\n",
              "      fill: #174EA6;\n",
              "    }\n",
              "\n",
              "    [theme=dark] .colab-df-convert {\n",
              "      background-color: #3B4455;\n",
              "      fill: #D2E3FC;\n",
              "    }\n",
              "\n",
              "    [theme=dark] .colab-df-convert:hover {\n",
              "      background-color: #434B5C;\n",
              "      box-shadow: 0px 1px 3px 1px rgba(0, 0, 0, 0.15);\n",
              "      filter: drop-shadow(0px 1px 2px rgba(0, 0, 0, 0.3));\n",
              "      fill: #FFFFFF;\n",
              "    }\n",
              "  </style>\n",
              "\n",
              "      <script>\n",
              "        const buttonEl =\n",
              "          document.querySelector('#df-7d58c9d7-eed3-443d-b69e-03526b1a026a button.colab-df-convert');\n",
              "        buttonEl.style.display =\n",
              "          google.colab.kernel.accessAllowed ? 'block' : 'none';\n",
              "\n",
              "        async function convertToInteractive(key) {\n",
              "          const element = document.querySelector('#df-7d58c9d7-eed3-443d-b69e-03526b1a026a');\n",
              "          const dataTable =\n",
              "            await google.colab.kernel.invokeFunction('convertToInteractive',\n",
              "                                                     [key], {});\n",
              "          if (!dataTable) return;\n",
              "\n",
              "          const docLinkHtml = 'Like what you see? Visit the ' +\n",
              "            '<a target=\"_blank\" href=https://colab.research.google.com/notebooks/data_table.ipynb>data table notebook</a>'\n",
              "            + ' to learn more about interactive tables.';\n",
              "          element.innerHTML = '';\n",
              "          dataTable['output_type'] = 'display_data';\n",
              "          await google.colab.output.renderOutput(dataTable, element);\n",
              "          const docLink = document.createElement('div');\n",
              "          docLink.innerHTML = docLinkHtml;\n",
              "          element.appendChild(docLink);\n",
              "        }\n",
              "      </script>\n",
              "    </div>\n",
              "  </div>\n",
              "  "
            ]
          },
          "metadata": {},
          "execution_count": 3
        }
      ]
    },
    {
      "cell_type": "markdown",
      "source": [
        "## `CREATE MODEL` using `KMEANS`\n",
        "\n",
        "Create a query then start the model creation job, using a python loop to wait for the job to complete. Please note, if you've created the model already, there's no need to rerun this step to create the clustering using model on the data."
      ],
      "metadata": {
        "id": "jQKfCgZ9FZH5"
      }
    },
    {
      "cell_type": "code",
      "source": [
        "query = \"\"\"\n",
        "CREATE OR REPLACE MODEL `bqml_llm.ecommerce_customer_segment`\n",
        "OPTIONS (\n",
        "  MODEL_TYPE = \"KMEANS\",\n",
        "  NUM_CLUSTERS = 5,\n",
        "  KMEANS_INIT_METHOD = \"KMEANS++\",\n",
        "  STANDARDIZE_FEATURES = TRUE )\n",
        "AS (\n",
        "SELECT * EXCEPT (user_id)\n",
        "FROM (\n",
        "  SELECT user_id,\n",
        "    DATE_DIFF(CURRENT_DATE(), CAST(MAX(order_created_date) as DATE), day) AS days_since_order, -- RECENCY\n",
        "    COUNT(order_id) AS count_orders, -- FREQUENCY\n",
        "    AVG(sale_price) AS avg_spend -- MONETARY\n",
        "  FROM (\n",
        "    SELECT user_id,\n",
        "      order_id,\n",
        "      sale_price,\n",
        "      created_at as order_created_date\n",
        "    FROM `bigquery-public-data.thelook_ecommerce.order_items`\n",
        "    WHERE created_at BETWEEN CAST('2020-01-01 00:00:00' AS TIMESTAMP)\n",
        "    AND CAST('2023-01-01 00:00:00' AS TIMESTAMP)\n",
        "  )\n",
        "  GROUP BY user_id, order_id\n",
        " )\n",
        ")\n",
        "\"\"\".format(dataset_name, model_name)\n"
      ],
      "metadata": {
        "id": "KiB2gPEvFkkd"
      },
      "execution_count": null,
      "outputs": []
    },
    {
      "cell_type": "code",
      "source": [
        "# Wrapper to use BigQuery client to run query/job, return job ID or result as DF\n",
        "def run_bq_query(sql: str) -> Union[str, pd.DataFrame]:\n",
        "    \"\"\"\n",
        "    Input: SQL query, as a string, to execute in BigQuery\n",
        "    Returns the query results as a pandas DataFrame, or error, if any\n",
        "    \"\"\"\n",
        "\n",
        "    # Try dry run before executing query to catch any errors\n",
        "    job_config = bigquery.QueryJobConfig(dry_run=True, use_query_cache=False)\n",
        "    client.query(sql, job_config=job_config)\n",
        "\n",
        "    # If dry run succeeds without errors, proceed to run query\n",
        "    job_config = bigquery.QueryJobConfig()\n",
        "    client_result = client.query(sql, job_config=job_config)\n",
        "\n",
        "    job_id = client_result.job_id\n",
        "\n",
        "    # Wait for query/job to finish running. then get & return data frame\n",
        "    df = client_result.result().to_arrow().to_pandas()\n",
        "    print(f\"Finished job_id: {job_id}\")\n",
        "    return df"
      ],
      "metadata": {
        "id": "_9lZPWXtNwbN"
      },
      "execution_count": null,
      "outputs": []
    },
    {
      "cell_type": "code",
      "source": [
        "print(query)\n",
        "\n",
        "# this should take under 5 minutes to create the model\n",
        "run_bq_query(query)"
      ],
      "metadata": {
        "colab": {
          "base_uri": "https://localhost:8080/",
          "height": 223
        },
        "id": "0RqNFZdVKDW6",
        "outputId": "bd29bbc7-adae-4678-85e0-b3a468f4a87a"
      },
      "execution_count": null,
      "outputs": [
        {
          "output_type": "error",
          "ename": "NameError",
          "evalue": "ignored",
          "traceback": [
            "\u001b[0;31m---------------------------------------------------------------------------\u001b[0m",
            "\u001b[0;31mNameError\u001b[0m                                 Traceback (most recent call last)",
            "\u001b[0;32m<ipython-input-4-4ca50916f04d>\u001b[0m in \u001b[0;36m<cell line: 1>\u001b[0;34m()\u001b[0m\n\u001b[0;32m----> 1\u001b[0;31m \u001b[0mprint\u001b[0m\u001b[0;34m(\u001b[0m\u001b[0mquery\u001b[0m\u001b[0;34m)\u001b[0m\u001b[0;34m\u001b[0m\u001b[0;34m\u001b[0m\u001b[0m\n\u001b[0m\u001b[1;32m      2\u001b[0m \u001b[0;34m\u001b[0m\u001b[0m\n\u001b[1;32m      3\u001b[0m \u001b[0;31m# this should take under 5 minutes to create the model\u001b[0m\u001b[0;34m\u001b[0m\u001b[0;34m\u001b[0m\u001b[0m\n\u001b[1;32m      4\u001b[0m \u001b[0mrun_bq_query\u001b[0m\u001b[0;34m(\u001b[0m\u001b[0mquery\u001b[0m\u001b[0;34m)\u001b[0m\u001b[0;34m\u001b[0m\u001b[0;34m\u001b[0m\u001b[0m\n",
            "\u001b[0;31mNameError\u001b[0m: name 'query' is not defined"
          ]
        }
      ]
    },
    {
      "cell_type": "markdown",
      "source": [
        "Let's take a look at the model's clustering performance, using these metrics - [Davies Bouldin Index](https://en.wikipedia.org/wiki/Davies%E2%80%93Bouldin_index) and Mean Squared Distance"
      ],
      "metadata": {
        "id": "mYN7F_f3PeE5"
      }
    },
    {
      "cell_type": "code",
      "source": [
        "query = \"\"\"\n",
        "SELECT *\n",
        "FROM ML.EVALUATE(MODEL `{0}.{1}`)\n",
        "\"\"\".format(dataset_name, model_name)\n",
        "run_bq_query(query)\n"
      ],
      "metadata": {
        "colab": {
          "base_uri": "https://localhost:8080/",
          "height": 98
        },
        "id": "wDy9-26SFnuS",
        "outputId": "5b9f169c-0165-4439-847e-11a94ea4b290"
      },
      "execution_count": null,
      "outputs": [
        {
          "output_type": "stream",
          "name": "stdout",
          "text": [
            "Finished job_id: 0129a191-cdef-40bf-8f73-a72f8a763452\n"
          ]
        },
        {
          "output_type": "execute_result",
          "data": {
            "text/plain": [
              "   davies_bouldin_index  mean_squared_distance\n",
              "0              1.052067               0.976708"
            ],
            "text/html": [
              "\n",
              "  <div id=\"df-e5a07830-5fa0-44fe-a5cd-b9410e02f93c\">\n",
              "    <div class=\"colab-df-container\">\n",
              "      <div>\n",
              "<style scoped>\n",
              "    .dataframe tbody tr th:only-of-type {\n",
              "        vertical-align: middle;\n",
              "    }\n",
              "\n",
              "    .dataframe tbody tr th {\n",
              "        vertical-align: top;\n",
              "    }\n",
              "\n",
              "    .dataframe thead th {\n",
              "        text-align: right;\n",
              "    }\n",
              "</style>\n",
              "<table border=\"1\" class=\"dataframe\">\n",
              "  <thead>\n",
              "    <tr style=\"text-align: right;\">\n",
              "      <th></th>\n",
              "      <th>davies_bouldin_index</th>\n",
              "      <th>mean_squared_distance</th>\n",
              "    </tr>\n",
              "  </thead>\n",
              "  <tbody>\n",
              "    <tr>\n",
              "      <th>0</th>\n",
              "      <td>1.052067</td>\n",
              "      <td>0.976708</td>\n",
              "    </tr>\n",
              "  </tbody>\n",
              "</table>\n",
              "</div>\n",
              "      <button class=\"colab-df-convert\" onclick=\"convertToInteractive('df-e5a07830-5fa0-44fe-a5cd-b9410e02f93c')\"\n",
              "              title=\"Convert this dataframe to an interactive table.\"\n",
              "              style=\"display:none;\">\n",
              "        \n",
              "  <svg xmlns=\"http://www.w3.org/2000/svg\" height=\"24px\"viewBox=\"0 0 24 24\"\n",
              "       width=\"24px\">\n",
              "    <path d=\"M0 0h24v24H0V0z\" fill=\"none\"/>\n",
              "    <path d=\"M18.56 5.44l.94 2.06.94-2.06 2.06-.94-2.06-.94-.94-2.06-.94 2.06-2.06.94zm-11 1L8.5 8.5l.94-2.06 2.06-.94-2.06-.94L8.5 2.5l-.94 2.06-2.06.94zm10 10l.94 2.06.94-2.06 2.06-.94-2.06-.94-.94-2.06-.94 2.06-2.06.94z\"/><path d=\"M17.41 7.96l-1.37-1.37c-.4-.4-.92-.59-1.43-.59-.52 0-1.04.2-1.43.59L10.3 9.45l-7.72 7.72c-.78.78-.78 2.05 0 2.83L4 21.41c.39.39.9.59 1.41.59.51 0 1.02-.2 1.41-.59l7.78-7.78 2.81-2.81c.8-.78.8-2.07 0-2.86zM5.41 20L4 18.59l7.72-7.72 1.47 1.35L5.41 20z\"/>\n",
              "  </svg>\n",
              "      </button>\n",
              "      \n",
              "  \n",
              "    <div id=\"df-d2ed3149-f332-47a7-92b2-0af6d11acc18\">\n",
              "      <button class=\"colab-df-quickchart\" onclick=\"quickchart('df-d2ed3149-f332-47a7-92b2-0af6d11acc18')\"\n",
              "              title=\"Generate charts.\"\n",
              "              style=\"display:none;\">\n",
              "        \n",
              "  <svg xmlns=\"http://www.w3.org/2000/svg\" height=\"24px\"viewBox=\"0 0 24 24\"\n",
              "       width=\"24px\">\n",
              "      <g>\n",
              "          <path d=\"M19 3H5c-1.1 0-2 .9-2 2v14c0 1.1.9 2 2 2h14c1.1 0 2-.9 2-2V5c0-1.1-.9-2-2-2zM9 17H7v-7h2v7zm4 0h-2V7h2v10zm4 0h-2v-4h2v4z\"/>\n",
              "      </g>\n",
              "  </svg>\n",
              "      </button>\n",
              "    </div>\n",
              "    \n",
              "  <style>\n",
              "    .colab-df-quickchart {\n",
              "      background-color: #E8F0FE;\n",
              "      border: none;\n",
              "      border-radius: 50%;\n",
              "      cursor: pointer;\n",
              "      display: none;\n",
              "      fill: #1967D2;\n",
              "      height: 32px;\n",
              "      padding: 0 0 0 0;\n",
              "      width: 32px;\n",
              "    }\n",
              "\n",
              "    .colab-df-quickchart:hover {\n",
              "      background-color: #E2EBFA;\n",
              "      box-shadow: 0px 1px 2px rgba(60, 64, 67, 0.3), 0px 1px 3px 1px rgba(60, 64, 67, 0.15);\n",
              "      fill: #174EA6;\n",
              "    }\n",
              "\n",
              "    [theme=dark] .colab-df-quickchart {\n",
              "      background-color: #3B4455;\n",
              "      fill: #D2E3FC;\n",
              "    }\n",
              "\n",
              "    [theme=dark] .colab-df-quickchart:hover {\n",
              "      background-color: #434B5C;\n",
              "      box-shadow: 0px 1px 3px 1px rgba(0, 0, 0, 0.15);\n",
              "      filter: drop-shadow(0px 1px 2px rgba(0, 0, 0, 0.3));\n",
              "      fill: #FFFFFF;\n",
              "    }\n",
              "  </style>\n",
              "\n",
              "    <script>\n",
              "      const quickchartButtonEl =\n",
              "        document.querySelector('#df-d2ed3149-f332-47a7-92b2-0af6d11acc18 button.colab-df-quickchart');\n",
              "      quickchartButtonEl.style.display =\n",
              "        google.colab.kernel.accessAllowed ? 'block' : 'none';\n",
              "\n",
              "      async function quickchart(key) {\n",
              "        const containerElement = document.querySelector('#df-d2ed3149-f332-47a7-92b2-0af6d11acc18');\n",
              "        const charts = await google.colab.kernel.invokeFunction(\n",
              "            'generateCharts', [key], {});\n",
              "      }\n",
              "    </script>\n",
              "  <style>\n",
              "    .colab-df-container {\n",
              "      display:flex;\n",
              "      flex-wrap:wrap;\n",
              "      gap: 12px;\n",
              "    }\n",
              "\n",
              "    .colab-df-convert {\n",
              "      background-color: #E8F0FE;\n",
              "      border: none;\n",
              "      border-radius: 50%;\n",
              "      cursor: pointer;\n",
              "      display: none;\n",
              "      fill: #1967D2;\n",
              "      height: 32px;\n",
              "      padding: 0 0 0 0;\n",
              "      width: 32px;\n",
              "    }\n",
              "\n",
              "    .colab-df-convert:hover {\n",
              "      background-color: #E2EBFA;\n",
              "      box-shadow: 0px 1px 2px rgba(60, 64, 67, 0.3), 0px 1px 3px 1px rgba(60, 64, 67, 0.15);\n",
              "      fill: #174EA6;\n",
              "    }\n",
              "\n",
              "    [theme=dark] .colab-df-convert {\n",
              "      background-color: #3B4455;\n",
              "      fill: #D2E3FC;\n",
              "    }\n",
              "\n",
              "    [theme=dark] .colab-df-convert:hover {\n",
              "      background-color: #434B5C;\n",
              "      box-shadow: 0px 1px 3px 1px rgba(0, 0, 0, 0.15);\n",
              "      filter: drop-shadow(0px 1px 2px rgba(0, 0, 0, 0.3));\n",
              "      fill: #FFFFFF;\n",
              "    }\n",
              "  </style>\n",
              "\n",
              "      <script>\n",
              "        const buttonEl =\n",
              "          document.querySelector('#df-e5a07830-5fa0-44fe-a5cd-b9410e02f93c button.colab-df-convert');\n",
              "        buttonEl.style.display =\n",
              "          google.colab.kernel.accessAllowed ? 'block' : 'none';\n",
              "\n",
              "        async function convertToInteractive(key) {\n",
              "          const element = document.querySelector('#df-e5a07830-5fa0-44fe-a5cd-b9410e02f93c');\n",
              "          const dataTable =\n",
              "            await google.colab.kernel.invokeFunction('convertToInteractive',\n",
              "                                                     [key], {});\n",
              "          if (!dataTable) return;\n",
              "\n",
              "          const docLinkHtml = 'Like what you see? Visit the ' +\n",
              "            '<a target=\"_blank\" href=https://colab.research.google.com/notebooks/data_table.ipynb>data table notebook</a>'\n",
              "            + ' to learn more about interactive tables.';\n",
              "          element.innerHTML = '';\n",
              "          dataTable['output_type'] = 'display_data';\n",
              "          await google.colab.output.renderOutput(dataTable, element);\n",
              "          const docLink = document.createElement('div');\n",
              "          docLink.innerHTML = docLinkHtml;\n",
              "          element.appendChild(docLink);\n",
              "        }\n",
              "      </script>\n",
              "    </div>\n",
              "  </div>\n",
              "  "
            ]
          },
          "metadata": {},
          "execution_count": 5
        }
      ]
    },
    {
      "cell_type": "markdown",
      "source": [
        "Now let's get the cluster (centroid) information"
      ],
      "metadata": {
        "id": "t1RNh1NqPpJ2"
      }
    },
    {
      "cell_type": "code",
      "source": [
        "query = \"\"\"\n",
        "SELECT\n",
        "  CONCAT('cluster ', CAST(centroid_id as STRING)) as centroid,\n",
        "  avg_spend as average_spend,\n",
        "  count_orders as count_of_orders,\n",
        "  days_since_order\n",
        "FROM (\n",
        "  SELECT centroid_id, feature, ROUND(numerical_value, 2) as value\n",
        "  FROM ML.CENTROIDS(MODEL `{0}.{1}`)\n",
        ")\n",
        "PIVOT (\n",
        "  SUM(value)\n",
        "  FOR feature IN ('avg_spend',  'count_orders', 'days_since_order')\n",
        ")\n",
        "ORDER BY centroid_id\n",
        "\"\"\".format(dataset_name, model_name)\n",
        "run_bq_query(query)"
      ],
      "metadata": {
        "colab": {
          "base_uri": "https://localhost:8080/",
          "height": 224
        },
        "id": "H2czyn5zPvhJ",
        "outputId": "60ac49c9-e2ec-4cdb-d846-17cdb3a9342e"
      },
      "execution_count": null,
      "outputs": [
        {
          "output_type": "stream",
          "name": "stdout",
          "text": [
            "Finished job_id: 44a78350-528f-44f3-9c6c-c9295941bc50\n"
          ]
        },
        {
          "output_type": "execute_result",
          "data": {
            "text/plain": [
              "    centroid  average_spend  count_of_orders  days_since_order\n",
              "0  cluster 1          53.60             2.00            384.95\n",
              "1  cluster 2         228.38             1.14            481.38\n",
              "2  cluster 3          44.57             1.00            342.27\n",
              "3  cluster 4          49.00             1.17            881.51\n",
              "4  cluster 5          58.36             3.49            504.43"
            ],
            "text/html": [
              "\n",
              "  <div id=\"df-1ae478c1-5610-4948-a359-de6a10b0b10e\">\n",
              "    <div class=\"colab-df-container\">\n",
              "      <div>\n",
              "<style scoped>\n",
              "    .dataframe tbody tr th:only-of-type {\n",
              "        vertical-align: middle;\n",
              "    }\n",
              "\n",
              "    .dataframe tbody tr th {\n",
              "        vertical-align: top;\n",
              "    }\n",
              "\n",
              "    .dataframe thead th {\n",
              "        text-align: right;\n",
              "    }\n",
              "</style>\n",
              "<table border=\"1\" class=\"dataframe\">\n",
              "  <thead>\n",
              "    <tr style=\"text-align: right;\">\n",
              "      <th></th>\n",
              "      <th>centroid</th>\n",
              "      <th>average_spend</th>\n",
              "      <th>count_of_orders</th>\n",
              "      <th>days_since_order</th>\n",
              "    </tr>\n",
              "  </thead>\n",
              "  <tbody>\n",
              "    <tr>\n",
              "      <th>0</th>\n",
              "      <td>cluster 1</td>\n",
              "      <td>53.60</td>\n",
              "      <td>2.00</td>\n",
              "      <td>384.95</td>\n",
              "    </tr>\n",
              "    <tr>\n",
              "      <th>1</th>\n",
              "      <td>cluster 2</td>\n",
              "      <td>228.38</td>\n",
              "      <td>1.14</td>\n",
              "      <td>481.38</td>\n",
              "    </tr>\n",
              "    <tr>\n",
              "      <th>2</th>\n",
              "      <td>cluster 3</td>\n",
              "      <td>44.57</td>\n",
              "      <td>1.00</td>\n",
              "      <td>342.27</td>\n",
              "    </tr>\n",
              "    <tr>\n",
              "      <th>3</th>\n",
              "      <td>cluster 4</td>\n",
              "      <td>49.00</td>\n",
              "      <td>1.17</td>\n",
              "      <td>881.51</td>\n",
              "    </tr>\n",
              "    <tr>\n",
              "      <th>4</th>\n",
              "      <td>cluster 5</td>\n",
              "      <td>58.36</td>\n",
              "      <td>3.49</td>\n",
              "      <td>504.43</td>\n",
              "    </tr>\n",
              "  </tbody>\n",
              "</table>\n",
              "</div>\n",
              "      <button class=\"colab-df-convert\" onclick=\"convertToInteractive('df-1ae478c1-5610-4948-a359-de6a10b0b10e')\"\n",
              "              title=\"Convert this dataframe to an interactive table.\"\n",
              "              style=\"display:none;\">\n",
              "        \n",
              "  <svg xmlns=\"http://www.w3.org/2000/svg\" height=\"24px\"viewBox=\"0 0 24 24\"\n",
              "       width=\"24px\">\n",
              "    <path d=\"M0 0h24v24H0V0z\" fill=\"none\"/>\n",
              "    <path d=\"M18.56 5.44l.94 2.06.94-2.06 2.06-.94-2.06-.94-.94-2.06-.94 2.06-2.06.94zm-11 1L8.5 8.5l.94-2.06 2.06-.94-2.06-.94L8.5 2.5l-.94 2.06-2.06.94zm10 10l.94 2.06.94-2.06 2.06-.94-2.06-.94-.94-2.06-.94 2.06-2.06.94z\"/><path d=\"M17.41 7.96l-1.37-1.37c-.4-.4-.92-.59-1.43-.59-.52 0-1.04.2-1.43.59L10.3 9.45l-7.72 7.72c-.78.78-.78 2.05 0 2.83L4 21.41c.39.39.9.59 1.41.59.51 0 1.02-.2 1.41-.59l7.78-7.78 2.81-2.81c.8-.78.8-2.07 0-2.86zM5.41 20L4 18.59l7.72-7.72 1.47 1.35L5.41 20z\"/>\n",
              "  </svg>\n",
              "      </button>\n",
              "      \n",
              "  \n",
              "    <div id=\"df-1856b4fc-d2ca-4d88-a26d-23e61bdca5d9\">\n",
              "      <button class=\"colab-df-quickchart\" onclick=\"quickchart('df-1856b4fc-d2ca-4d88-a26d-23e61bdca5d9')\"\n",
              "              title=\"Generate charts.\"\n",
              "              style=\"display:none;\">\n",
              "        \n",
              "  <svg xmlns=\"http://www.w3.org/2000/svg\" height=\"24px\"viewBox=\"0 0 24 24\"\n",
              "       width=\"24px\">\n",
              "      <g>\n",
              "          <path d=\"M19 3H5c-1.1 0-2 .9-2 2v14c0 1.1.9 2 2 2h14c1.1 0 2-.9 2-2V5c0-1.1-.9-2-2-2zM9 17H7v-7h2v7zm4 0h-2V7h2v10zm4 0h-2v-4h2v4z\"/>\n",
              "      </g>\n",
              "  </svg>\n",
              "      </button>\n",
              "    </div>\n",
              "    \n",
              "  <style>\n",
              "    .colab-df-quickchart {\n",
              "      background-color: #E8F0FE;\n",
              "      border: none;\n",
              "      border-radius: 50%;\n",
              "      cursor: pointer;\n",
              "      display: none;\n",
              "      fill: #1967D2;\n",
              "      height: 32px;\n",
              "      padding: 0 0 0 0;\n",
              "      width: 32px;\n",
              "    }\n",
              "\n",
              "    .colab-df-quickchart:hover {\n",
              "      background-color: #E2EBFA;\n",
              "      box-shadow: 0px 1px 2px rgba(60, 64, 67, 0.3), 0px 1px 3px 1px rgba(60, 64, 67, 0.15);\n",
              "      fill: #174EA6;\n",
              "    }\n",
              "\n",
              "    [theme=dark] .colab-df-quickchart {\n",
              "      background-color: #3B4455;\n",
              "      fill: #D2E3FC;\n",
              "    }\n",
              "\n",
              "    [theme=dark] .colab-df-quickchart:hover {\n",
              "      background-color: #434B5C;\n",
              "      box-shadow: 0px 1px 3px 1px rgba(0, 0, 0, 0.15);\n",
              "      filter: drop-shadow(0px 1px 2px rgba(0, 0, 0, 0.3));\n",
              "      fill: #FFFFFF;\n",
              "    }\n",
              "  </style>\n",
              "\n",
              "    <script>\n",
              "      const quickchartButtonEl =\n",
              "        document.querySelector('#df-1856b4fc-d2ca-4d88-a26d-23e61bdca5d9 button.colab-df-quickchart');\n",
              "      quickchartButtonEl.style.display =\n",
              "        google.colab.kernel.accessAllowed ? 'block' : 'none';\n",
              "\n",
              "      async function quickchart(key) {\n",
              "        const containerElement = document.querySelector('#df-1856b4fc-d2ca-4d88-a26d-23e61bdca5d9');\n",
              "        const charts = await google.colab.kernel.invokeFunction(\n",
              "            'generateCharts', [key], {});\n",
              "      }\n",
              "    </script>\n",
              "  <style>\n",
              "    .colab-df-container {\n",
              "      display:flex;\n",
              "      flex-wrap:wrap;\n",
              "      gap: 12px;\n",
              "    }\n",
              "\n",
              "    .colab-df-convert {\n",
              "      background-color: #E8F0FE;\n",
              "      border: none;\n",
              "      border-radius: 50%;\n",
              "      cursor: pointer;\n",
              "      display: none;\n",
              "      fill: #1967D2;\n",
              "      height: 32px;\n",
              "      padding: 0 0 0 0;\n",
              "      width: 32px;\n",
              "    }\n",
              "\n",
              "    .colab-df-convert:hover {\n",
              "      background-color: #E2EBFA;\n",
              "      box-shadow: 0px 1px 2px rgba(60, 64, 67, 0.3), 0px 1px 3px 1px rgba(60, 64, 67, 0.15);\n",
              "      fill: #174EA6;\n",
              "    }\n",
              "\n",
              "    [theme=dark] .colab-df-convert {\n",
              "      background-color: #3B4455;\n",
              "      fill: #D2E3FC;\n",
              "    }\n",
              "\n",
              "    [theme=dark] .colab-df-convert:hover {\n",
              "      background-color: #434B5C;\n",
              "      box-shadow: 0px 1px 3px 1px rgba(0, 0, 0, 0.15);\n",
              "      filter: drop-shadow(0px 1px 2px rgba(0, 0, 0, 0.3));\n",
              "      fill: #FFFFFF;\n",
              "    }\n",
              "  </style>\n",
              "\n",
              "      <script>\n",
              "        const buttonEl =\n",
              "          document.querySelector('#df-1ae478c1-5610-4948-a359-de6a10b0b10e button.colab-df-convert');\n",
              "        buttonEl.style.display =\n",
              "          google.colab.kernel.accessAllowed ? 'block' : 'none';\n",
              "\n",
              "        async function convertToInteractive(key) {\n",
              "          const element = document.querySelector('#df-1ae478c1-5610-4948-a359-de6a10b0b10e');\n",
              "          const dataTable =\n",
              "            await google.colab.kernel.invokeFunction('convertToInteractive',\n",
              "                                                     [key], {});\n",
              "          if (!dataTable) return;\n",
              "\n",
              "          const docLinkHtml = 'Like what you see? Visit the ' +\n",
              "            '<a target=\"_blank\" href=https://colab.research.google.com/notebooks/data_table.ipynb>data table notebook</a>'\n",
              "            + ' to learn more about interactive tables.';\n",
              "          element.innerHTML = '';\n",
              "          dataTable['output_type'] = 'display_data';\n",
              "          await google.colab.output.renderOutput(dataTable, element);\n",
              "          const docLink = document.createElement('div');\n",
              "          docLink.innerHTML = docLinkHtml;\n",
              "          element.appendChild(docLink);\n",
              "        }\n",
              "      </script>\n",
              "    </div>\n",
              "  </div>\n",
              "  "
            ]
          },
          "metadata": {},
          "execution_count": 6
        }
      ]
    },
    {
      "cell_type": "markdown",
      "source": [
        "Whew! That's a lot of metrics and cluster info. How about we explain this to our colleagues using the magic of LLMs."
      ],
      "metadata": {
        "id": "Xhha_o_qPwJY"
      }
    },
    {
      "cell_type": "code",
      "source": [
        "df = client.query(query).to_dataframe()\n",
        "df.to_string(header=False, index=False)\n",
        "\n",
        "cluster_info = []\n",
        "for i, row in df.iterrows():\n",
        "  cluster_info.append(\"{0}, average spend ${2}, count of orders per person {1}, days since last order {3}\"\n",
        "    .format(row[\"centroid\"], row[\"count_of_orders\"], row[\"average_spend\"], row[\"days_since_order\"]) )\n",
        "\n",
        "print(str.join(\"\\n\", cluster_info))"
      ],
      "metadata": {
        "colab": {
          "base_uri": "https://localhost:8080/"
        },
        "id": "AWzyZUFdRQll",
        "outputId": "d9a00a0c-40c4-41f7-a138-449c5c46619a"
      },
      "execution_count": null,
      "outputs": [
        {
          "output_type": "stream",
          "name": "stdout",
          "text": [
            "cluster 1, average spend $45.77, count of orders per person 1.23, days since last order 850.51\n",
            "cluster 2, average spend $359.51, count of orders per person 1.16, days since last order 525.65\n",
            "cluster 3, average spend $136.63, count of orders per person 1.27, days since last order 416.48\n",
            "cluster 4, average spend $57.69, count of orders per person 3.51, days since last order 497.3\n",
            "cluster 5, average spend $38.5, count of orders per person 1.21, days since last order 317.57\n"
          ]
        }
      ]
    },
    {
      "cell_type": "markdown",
      "source": [
        "## Explain with Vertex AI PaLM API\n",
        "\n",
        "Install the python library and restart the runtime"
      ],
      "metadata": {
        "id": "7Na0_rVVLhOk"
      }
    },
    {
      "cell_type": "code",
      "source": [
        "from google.cloud import aiplatform\n",
        "#from google.cloud.aiplatform.private_preview.language_models import TextGenerationModel, ChatModel\n",
        "from vertexai.language_models._language_models import TextGenerationModel, ChatModel\n",
        "\n",
        "aiplatform.init(project=project_id, location=LOCATION)"
      ],
      "metadata": {
        "id": "4swYEG_iMmNU"
      },
      "execution_count": null,
      "outputs": []
    },
    {
      "cell_type": "markdown",
      "source": [
        "Generate a text prediction"
      ],
      "metadata": {
        "id": "tdoRB7RjLso6"
      }
    },
    {
      "cell_type": "code",
      "source": [
        "#from google.cloud.aiplatform.private_preview.language_models import TextGenerationModel\n",
        "from vertexai.language_models._language_models import TextGenerationModel\n",
        "\n",
        "model = TextGenerationModel.from_pretrained(\"text-bison@001\")\n",
        "\n",
        "clusters = str.join(\"\\n\", cluster_info)\n",
        "\n",
        "prompt = f\"\"\"\n",
        "You're a creative brand strategist, given the following clusters, come up with creative brand persona, a catchy title, and next marketing action, explained step by step.\n",
        "\n",
        "Clusters:\n",
        "{clusters}\n",
        "\n",
        "For each Cluster:\n",
        "* Title:\n",
        "* Persona:\n",
        "* Next Marketing Step:\n",
        "\"\"\"\n",
        "\n",
        "print(model.predict(\n",
        "    prompt,\n",
        "    max_output_tokens=1024,\n",
        "    temperature=0.55,\n",
        "    top_p=0.8,\n",
        "    top_k=40,\n",
        "))"
      ],
      "metadata": {
        "colab": {
          "base_uri": "https://localhost:8080/"
        },
        "id": "MYwQNH0ELu9y",
        "outputId": "38f056b7-eadd-4015-90d2-832235fa8f49"
      },
      "execution_count": null,
      "outputs": [
        {
          "output_type": "stream",
          "name": "stdout",
          "text": [
            "**Cluster 1**\n",
            "\n",
            "* Title: The Loyal Customers\n",
            "* Persona: This persona is someone who is loyal to your brand and has been shopping with you for a long time. They are typically older and have a higher income. They are looking for quality products and services that they can trust.\n",
            "* Next Marketing Step: Send them a personalized email with a special offer or discount. This will show them that you appreciate their loyalty and encourage them to continue shopping with you.\n",
            "\n",
            "**Cluster 2**\n",
            "\n",
            "* Title: The High-End Shoppers\n",
            "* Persona: This persona is someone who is looking for high-end products and services. They are typically younger and have a high income. They are looking for the best possible quality and are willing to pay a premium for it.\n",
            "* Next Marketing Step: Create a social media campaign that highlights your high-end products and services. This will help you reach a wider audience of potential customers.\n",
            "\n",
            "**Cluster 3**\n",
            "\n",
            "* Title: The Value Shoppers\n",
            "* Persona: This persona is someone who is looking for good value for their money. They are typically middle-aged and have an average income. They are looking for products and services that are affordable and meet their needs.\n",
            "* Next Marketing Step: Offer a sale on your products or services. This will help you attract new customers and encourage existing customers to buy more.\n",
            "\n",
            "**Cluster 4**\n",
            "\n",
            "* Title: The Frequent Buyers\n",
            "* Persona: This persona is someone who shops with you frequently. They are typically young and have an average income. They are looking for convenience and are willing to pay a little bit more for it.\n",
            "* Next Marketing Step: Create a loyalty program that rewards customers for their purchases. This will encourage them to shop with you even more often.\n",
            "\n",
            "**Cluster 5**\n",
            "\n",
            "* Title: The New Customers\n",
            "* Persona: This persona is someone who has recently started shopping with you. They are typically young and have an average income. They are looking for new products and services to try.\n",
            "* Next Marketing Step: Send them a welcome email with a coupon or discount. This will help you get them in the door and encourage them to make a purchase.\n"
          ]
        }
      ]
    },
    {
      "cell_type": "markdown",
      "source": [
        "Voila! We've now used k-means clustering to create groups of spenders and explain their profiles."
      ],
      "metadata": {
        "id": "jqC5uUguaunY"
      }
    },
    {
      "cell_type": "markdown",
      "source": [
        "Sometimes, though, you want a little bit [extra](https://cloud.google.com/blog/transform/prompt-debunking-five-generative-ai-misconceptions)."
      ],
      "metadata": {
        "id": "5HEVHGmmRyGW"
      }
    },
    {
      "cell_type": "code",
      "source": [
        "from vertexai.language_models._language_models import TextGenerationModel\n",
        "\n",
        "model = TextGenerationModel.from_pretrained(\"text-bison-001\")\n",
        "\n",
        "cluster_info = str.join('\\n', cluster_info)\n",
        "\n",
        "prompt = f\"\"\"\n",
        "Pretend you're a creative strategist, analyse the following clusters and come up with \\\n",
        "creative brand persona for each that includes the detail of which Taylor Swift song is \\\n",
        "likely to be their favorite, a summary of how this relates to their purchasing behavior, \\\n",
        "and a witty e-mail headline for marketing campaign targeted to their group.\n",
        "\n",
        "Clusters:\n",
        "{cluster_info}\n",
        "\"\"\"\n",
        "\n",
        "print(model.predict(\n",
        "    prompt,\n",
        "    max_output_tokens=1024,\n",
        "    temperature=0.45,\n",
        "    top_p=0.8, top_k=40,\n",
        "))"
      ],
      "metadata": {
        "colab": {
          "base_uri": "https://localhost:8080/"
        },
        "id": "3HgwtN1tR3xQ",
        "outputId": "7354950f-b7cd-4e1a-cc35-500bc4104ba3"
      },
      "execution_count": null,
      "outputs": [
        {
          "output_type": "stream",
          "name": "stdout",
          "text": [
            "**Cluster 1**\n",
            "\n",
            "* **Average age:** 25\n",
            "* **Average income:** $75,000\n",
            "* **Location:** Urban\n",
            "* **Occupation:** Professional\n",
            "* **Interests:** Fashion, travel, music, art\n",
            "* **Favorite Taylor Swift song:** \"Shake It Off\"\n",
            "\n",
            "This cluster is made up of young, professional women who are interested in fashion, travel, music, and art. They are likely to be active on social media and enjoy following celebrities. They are also likely to be interested in fashion and beauty trends.\n",
            "\n",
            "**Witty e-mail headline:** \"Shake it off with these new Taylor Swift-inspired fashion finds!\"\n",
            "\n",
            "**Body copy:**\n",
            "\n",
            "Taylor Swift is a fashion icon, and her songs are always on the radio. If you're a fan of Taylor Swift, you'll love these new fashion finds! From clothes to accessories, we've rounded up the best Taylor Swift-inspired fashion items.\n",
            "\n",
            "**Call to action:**\n",
            "\n",
            "Shop now and get 20% off your purchase!\n",
            "\n",
            "**Cluster 2**\n",
            "\n",
            "* **Average age:** 30\n",
            "* **Average income:** $100,000\n",
            "* **Location:** Suburban\n",
            "* **Occupation:** Stay-at-home mom\n",
            "* **Interests:** Family, home decor, cooking, reading\n",
            "* **Favorite Taylor Swift song:** \"You Belong With Me\"\n",
            "\n",
            "This cluster is made up of stay-at-home moms who are interested in family, home decor, cooking, and reading. They are likely to be active on social media and enjoy following celebrities. They are also likely to be interested in fashion and beauty trends.\n",
            "\n",
            "**Witty e-mail headline:** \"You Belong With Me...in this new Taylor Swift-inspired home decor!\"\n",
            "\n",
            "**Body copy:**\n",
            "\n",
            "Taylor Swift is a fashion icon, and her songs are always on the radio. If you're a fan of Taylor Swift, you'll love these new home decor items! From furniture to accessories, we've rounded up the best Taylor Swift-inspired home decor items.\n",
            "\n",
            "**Call to action:**\n",
            "\n",
            "Shop now and get 20% off your purchase!\n",
            "\n",
            "**Cluster 3**\n",
            "\n",
            "* **Average age:** 40\n",
            "* **Average income:** $150,000\n",
            "* **Location:** Rural\n",
            "* **Occupation:** Teacher\n",
            "* **Interests:** Family, nature, hiking, camping\n",
            "* **Favorite Taylor Swift song:** \"Wildest Dreams\"\n",
            "\n",
            "This cluster is made up of teachers who are interested in family, nature, hiking, and camping. They are likely to be active on social media and enjoy following celebrities. They are also likely to be interested in fashion and beauty trends.\n",
            "\n",
            "**Witty e-mail headline:** \"Wildest Dreams...in this new Taylor Swift-inspired outfit!\"\n",
            "\n",
            "**Body copy:**\n",
            "\n",
            "Taylor Swift is a fashion icon, and her songs are always on the radio. If you're a fan of Taylor Swift, you'll love these new outfit ideas! From clothes to accessories, we've rounded up the best Taylor Swift-inspired outfit ideas.\n",
            "\n",
            "**Call to action:**\n",
            "\n",
            "Shop now and get 20% off your purchase!\n"
          ]
        }
      ]
    }
  ]
}
